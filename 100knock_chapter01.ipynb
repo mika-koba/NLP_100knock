{
  "nbformat": 4,
  "nbformat_minor": 0,
  "metadata": {
    "colab": {
      "name": "100knock_chapter01",
      "provenance": [],
      "collapsed_sections": [],
      "authorship_tag": "ABX9TyMCobBczd1VF5zmnDvklBNr",
      "include_colab_link": true
    },
    "kernelspec": {
      "name": "python3",
      "display_name": "Python 3"
    },
    "language_info": {
      "name": "python"
    }
  },
  "cells": [
    {
      "cell_type": "markdown",
      "metadata": {
        "id": "view-in-github",
        "colab_type": "text"
      },
      "source": [
        "<a href=\"https://colab.research.google.com/github/mika-koba/NLP_100knock/blob/review/100knock_chapter01.ipynb\" target=\"_parent\"><img src=\"https://colab.research.google.com/assets/colab-badge.svg\" alt=\"Open In Colab\"/></a>"
      ]
    },
    {
      "cell_type": "markdown",
      "metadata": {
        "id": "t7_AqIHnGDWH"
      },
      "source": [
        "**00.文字列の逆順**\n",
        "\n",
        "文字列\"stressed\"の文字を逆に並べた文字を得よ"
      ]
    },
    {
      "cell_type": "code",
      "metadata": {
        "colab": {
          "base_uri": "https://localhost:8080/"
        },
        "id": "gy292rDIFSiF",
        "outputId": "01b0effc-4a39-4b0b-e8f4-389fcd31c36a"
      },
      "source": [
        "str = \"stressed\"\n",
        "\n",
        "# スライスで逆順\n",
        "ans = str[::-1]\n",
        "\n",
        "print(ans)"
      ],
      "execution_count": null,
      "outputs": [
        {
          "output_type": "stream",
          "name": "stdout",
          "text": [
            "desserts\n"
          ]
        }
      ]
    },
    {
      "cell_type": "markdown",
      "metadata": {
        "id": "qklIKJPEGkX4"
      },
      "source": [
        "**01.「パタトクカシーー」**\n",
        "\n",
        "「パタトクカシーー」という文字列の1,3,5,7文字目を取り出して連結した文字列を得よ"
      ]
    },
    {
      "cell_type": "code",
      "metadata": {
        "colab": {
          "base_uri": "https://localhost:8080/"
        },
        "id": "FNgnzhorHAH3",
        "outputId": "553038cb-efce-4034-9088-a210f20da4b8"
      },
      "source": [
        "str = \"パタトクカシーー\"\n",
        "\n",
        "# スライスで移動幅を2にする\n",
        "ans = str[::2]\n",
        "\n",
        "print(ans)"
      ],
      "execution_count": null,
      "outputs": [
        {
          "output_type": "stream",
          "name": "stdout",
          "text": [
            "パトカー\n"
          ]
        }
      ]
    },
    {
      "cell_type": "markdown",
      "metadata": {
        "id": "-JFInxcxHr9G"
      },
      "source": [
        "**02.「パトカー」＋「タクシー」＝「パタトクカシーー」**\n",
        "\n",
        "「パトカー」+「タクシー」の文字を先頭から交互に連結して文字列「パタトクカシーー」を得よ"
      ]
    },
    {
      "cell_type": "code",
      "metadata": {
        "colab": {
          "base_uri": "https://localhost:8080/"
        },
        "id": "s-QnbI_EINzx",
        "outputId": "226f7bd9-0234-4fc1-fd4a-9b5135f49b9c"
      },
      "source": [
        "str1 = \"パトカー\"\n",
        "str2 = \"タクシー\"\n",
        "\n",
        "# zip()で複数のリストの要素を取得\n",
        "ans = \"\".join(i+j for i, j in zip(str1, str2))\n",
        "\n",
        "print(ans)"
      ],
      "execution_count": null,
      "outputs": [
        {
          "output_type": "stream",
          "name": "stdout",
          "text": [
            "パタトクカシーー\n"
          ]
        }
      ]
    },
    {
      "cell_type": "markdown",
      "metadata": {
        "id": "AU8_3f2HJNGv"
      },
      "source": [
        "**03.円周率**\n",
        "\n",
        "“Now I need a drink, alcoholic of course, after the heavy lectures involving quantum mechanics.”という文を単語に分解し，各単語の（アルファベットの）文字数を先頭から出現順に並べたリストを作成せよ"
      ]
    },
    {
      "cell_type": "code",
      "metadata": {
        "colab": {
          "base_uri": "https://localhost:8080/"
        },
        "id": "OPm9yHa4JTyE",
        "outputId": "e475f904-9d2d-49a1-fa0f-f72a479be1df"
      },
      "source": [
        "str = \"Now I need a drink, alcoholic of course, after the heavy lectures involving quantum mechanics.\"\n",
        "\n",
        "# strip()で,と.を除去\n",
        "# split()でスペースで区切って単語ごとのリストを作成\n",
        "cnt = [len(i.strip(\",.\")) for i in str.split()]\n",
        "\n",
        "print(cnt)"
      ],
      "execution_count": null,
      "outputs": [
        {
          "output_type": "stream",
          "name": "stdout",
          "text": [
            "[3, 1, 4, 1, 5, 9, 2, 6, 5, 3, 5, 8, 9, 7, 9]\n"
          ]
        }
      ]
    },
    {
      "cell_type": "markdown",
      "metadata": {
        "id": "NLDbSGAgKnsO"
      },
      "source": [
        "**04.元素記号**\n",
        "\n",
        "“Hi He Lied Because Boron Could Not Oxidize Fluorine. New Nations Might Also Sign Peace Security Clause. Arthur King Can.”という文を単語に分解し，1, 5, 6, 7, 8, 9, 15, 16, 19番目の単語は先頭の1文字，それ以外の単語は先頭の2文字を取り出し，取り出した文字列から単語の位置（先頭から何番目の単語か）への連想配列（辞書型もしくはマップ型）を作成せよ"
      ]
    },
    {
      "cell_type": "code",
      "metadata": {
        "colab": {
          "base_uri": "https://localhost:8080/"
        },
        "id": "rPXqhtw7KzU4",
        "outputId": "8081aa7e-50be-449d-a7cd-a05ad3bf3948"
      },
      "source": [
        "str = \"Hi He Lied Because Boron Could Not Oxidize Fluorine. New Nations Might Also Sign Peace Security Clause. Arthur King Can.\"\n",
        "\n",
        "# ansは辞書型\n",
        "# enumerate()でリストの要素とインデックスを取得\n",
        "ans =  {word[:2-(i in (1,5,6,7,8,9,15,16,19))]:i for i, word in enumerate(str.replace(\".\", \"\").split(), 1)}\n",
        "\n",
        "print(ans)"
      ],
      "execution_count": null,
      "outputs": [
        {
          "output_type": "stream",
          "name": "stdout",
          "text": [
            "{'H': 1, 'He': 2, 'Li': 3, 'Be': 4, 'B': 5, 'C': 6, 'N': 7, 'O': 8, 'F': 9, 'Ne': 10, 'Na': 11, 'Mi': 12, 'Al': 13, 'Si': 14, 'P': 15, 'S': 16, 'Cl': 17, 'Ar': 18, 'K': 19, 'Ca': 20}\n"
          ]
        }
      ]
    },
    {
      "cell_type": "markdown",
      "metadata": {
        "id": "sRMFvEHbYRuI"
      },
      "source": [
        "**05.n-gram**\n",
        "\n",
        "与えられたシーケンス（文字列やリストなど）からn-gramを作る関数を作成せよ．この関数を用い，\"I am an NLPer\"という文から単語bi-gram，文字bi-gramを得よ"
      ]
    },
    {
      "cell_type": "code",
      "metadata": {
        "colab": {
          "base_uri": "https://localhost:8080/"
        },
        "id": "Kosye2XqYRRH",
        "outputId": "fb66ce7c-06e6-4fc8-ea51-bc79a1dcfde6"
      },
      "source": [
        "def n_gram(s, n):\n",
        "    return list(zip(*[s[i:] for i in range(n)]))\n",
        "\n",
        "str = \"I am an NLPer\"\n",
        "\n",
        "print(n_gram(str, 2))\n",
        "print(n_gram(str.split(),2))"
      ],
      "execution_count": null,
      "outputs": [
        {
          "output_type": "stream",
          "name": "stdout",
          "text": [
            "[('I', ' '), (' ', 'a'), ('a', 'm'), ('m', ' '), (' ', 'a'), ('a', 'n'), ('n', ' '), (' ', 'N'), ('N', 'L'), ('L', 'P'), ('P', 'e'), ('e', 'r')]\n",
            "[('I', 'am'), ('am', 'an'), ('an', 'NLPer')]\n"
          ]
        }
      ]
    }
  ]
}